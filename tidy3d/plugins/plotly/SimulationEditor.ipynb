{
 "cells": [
  {
   "cell_type": "code",
   "execution_count": 94,
   "id": "78689462-febd-4a12-8ba2-a0fa16344671",
   "metadata": {},
   "outputs": [],
   "source": [
    "import numpy as np\n",
    "from jupyter_dash import JupyterDash\n",
    "import dash_core_components as dcc\n",
    "import dash_html_components as html\n",
    "from dash.dependencies import Input, Output\n",
    "\n",
    "import pydantic as pd\n",
    "from typing import Tuple\n",
    "\n",
    "\n",
    "class SimpleSim(pd.BaseModel):\n",
    "    class Config:\n",
    "        validate_assignment=True\n",
    "    pml_layers : Tuple[bool, bool, bool] = (False, False, False)\n",
    "    run_time : pd.NonNegativeFloat\n",
    "\n",
    "class App:\n",
    "    \n",
    "    def __init__(self, sim:SimpleSim):\n",
    "        self.sim = sim\n",
    "        self.app = self.make_app()\n",
    "\n",
    "\n",
    "    def make_app(self):\n",
    "\n",
    "        app = JupyterDash(__name__)\n",
    "            \n",
    "        pml_labels = ['PML (x)', 'PML (y)', 'PML (z)']\n",
    "        initial_labels = [label for label, pml_on in zip(pml_labels, self.sim.pml_layers) if pml_on]\n",
    "        \n",
    "        app.layout = html.Div([\n",
    "            dcc.Checklist(\n",
    "                options=pml_labels,\n",
    "                value=initial_labels,\n",
    "                id='pml_checklist'\n",
    "            ),\n",
    "            html.Br(),\n",
    "            html.Label('Run Time (ps)'),\n",
    "            dcc.Input(value=self.sim.run_time, type='number', id='run_time'),           \n",
    "        ])\n",
    "\n",
    "        @app.callback(\n",
    "            Output('pml_checklist', 'value'),\n",
    "            Input('pml_checklist', 'value')\n",
    "        )\n",
    "        def set_model(value):\n",
    "            self.sim.pml_layers = tuple(label in value for label in pml_labels)\n",
    "            print(f'sim.pml_layers set to {self.sim.pml_layers}')\n",
    "            return value\n",
    "\n",
    "        @app.callback(\n",
    "            Output('run_time', 'value'),\n",
    "            Input('run_time', 'value')\n",
    "        )\n",
    "        def set_run_time(value):\n",
    "            new_value = max(0, value)\n",
    "            self.sim.run_time = new_value\n",
    "            print(f'sim.run_time set to {self.sim.run_time}')\n",
    "            return new_value\n",
    "                  \n",
    "        return app\n",
    "    \n",
    "    def run(self):\n",
    "    \n",
    "        self.app.run_server(mode='jupyterlab', port = 8090, dev_tools_ui=True, #debug=True,\n",
    "              dev_tools_hot_reload =True, threaded=True)"
   ]
  },
  {
   "cell_type": "code",
   "execution_count": 95,
   "id": "2961d810-344b-4c48-bbce-a836bdc999b7",
   "metadata": {},
   "outputs": [],
   "source": [
    "sim = SimpleSim(\n",
    "    run_time=10,\n",
    "    pml_layers=(True, False, True)\n",
    ")\n",
    "\n",
    "app = App(sim=sim)"
   ]
  },
  {
   "cell_type": "code",
   "execution_count": 96,
   "id": "5c143c0c-8cf4-497f-85ef-b354813c091e",
   "metadata": {},
   "outputs": [],
   "source": [
    "app.run()"
   ]
  },
  {
   "cell_type": "code",
   "execution_count": 97,
   "id": "21774726-906b-4d5d-97c9-319e8ad23588",
   "metadata": {},
   "outputs": [
    {
     "data": {
      "text/plain": [
       "SimpleSim(pml_layers=(True, False, True), run_time=10.0)"
      ]
     },
     "execution_count": 97,
     "metadata": {},
     "output_type": "execute_result"
    },
    {
     "name": "stdout",
     "output_type": "stream",
     "text": [
      "sim.pml_layers set to (True, False, True)sim.run_time set to 10.0\n",
      "\n",
      "sim.pml_layers set to (True, False, True)\n",
      "sim.run_time set to 10.0\n",
      "sim.run_time set to 9.0\n",
      "sim.run_time set to 8.0\n",
      "sim.run_time set to 7.0\n",
      "sim.run_time set to 6.0\n",
      "sim.run_time set to 5.0\n",
      "sim.run_time set to 4.0\n",
      "sim.run_time set to 3.0\n",
      "sim.run_time set to 2.0\n",
      "sim.run_time set to 1.0\n",
      "sim.run_time set to 0.0\n",
      "sim.run_time set to 0.0\n",
      "sim.run_time set to 0.0\n",
      "sim.run_time set to 0.0\n",
      "sim.run_time set to 0.0\n",
      "sim.run_time set to 0.0\n",
      "sim.run_time set to 0.0\n",
      "sim.run_time set to 0.0\n",
      "sim.run_time set to 0.0\n",
      "sim.run_time set to 0.0\n",
      "sim.run_time set to 2.0\n",
      "sim.run_time set to 0.0\n",
      "sim.run_time set to 0.0\n"
     ]
    }
   ],
   "source": [
    "app.sim"
   ]
  },
  {
   "cell_type": "code",
   "execution_count": null,
   "id": "29f0ad26-091b-4bf2-9080-81ec8a47f224",
   "metadata": {},
   "outputs": [],
   "source": []
  }
 ],
 "metadata": {
  "kernelspec": {
   "display_name": "Python 3 (ipykernel)",
   "language": "python",
   "name": "python3"
  },
  "language_info": {
   "codemirror_mode": {
    "name": "ipython",
    "version": 3
   },
   "file_extension": ".py",
   "mimetype": "text/x-python",
   "name": "python",
   "nbconvert_exporter": "python",
   "pygments_lexer": "ipython3",
   "version": "3.7.9"
  }
 },
 "nbformat": 4,
 "nbformat_minor": 5
}
