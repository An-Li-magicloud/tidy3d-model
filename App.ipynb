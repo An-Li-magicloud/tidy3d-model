{
 "cells": [
  {
   "cell_type": "code",
   "execution_count": 1,
   "id": "2cb22d9c-08f2-4fa2-984c-9163bd27c2e1",
   "metadata": {},
   "outputs": [],
   "source": [
    "from tidy3d.plugins.plotly.app import SimulationDataApp\n",
    "from tidy3d import SimulationData"
   ]
  },
  {
   "cell_type": "code",
   "execution_count": 2,
   "id": "ff190898-e5e3-4376-b8f2-90d0f87491c1",
   "metadata": {},
   "outputs": [],
   "source": [
    "# data file\n",
    "data_fname = 'tidy3d/plugins/plotly/data/viz_data.hdf5'\n",
    "\n",
    "# load app from the file\n",
    "app = SimulationDataApp.from_file(data_fname, mode='jupyterlab')"
   ]
  },
  {
   "cell_type": "code",
   "execution_count": 3,
   "id": "a40f32d2-9bca-474a-a3ef-a5ce0b18e70d",
   "metadata": {},
   "outputs": [],
   "source": [
    "# start up the app\n",
    "app.run(debug=True)"
   ]
  },
  {
   "cell_type": "code",
   "execution_count": null,
   "id": "ea21ffad-142b-4737-b3a2-9d67895ea540",
   "metadata": {},
   "outputs": [],
   "source": []
  }
 ],
 "metadata": {
  "kernelspec": {
   "display_name": "Python 3 (ipykernel)",
   "language": "python",
   "name": "python3"
  },
  "language_info": {
   "codemirror_mode": {
    "name": "ipython",
    "version": 3
   },
   "file_extension": ".py",
   "mimetype": "text/x-python",
   "name": "python",
   "nbconvert_exporter": "python",
   "pygments_lexer": "ipython3",
   "version": "3.7.9"
  }
 },
 "nbformat": 4,
 "nbformat_minor": 5
}
