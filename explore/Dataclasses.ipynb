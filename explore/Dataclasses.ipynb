{
 "cells": [
  {
   "cell_type": "code",
   "execution_count": 92,
   "id": "49b749eb-5b6b-46c8-a457-8fa4614e5eeb",
   "metadata": {},
   "outputs": [],
   "source": [
    "from typing import Tuple\n",
    "from dataclasses_json import dataclass_json\n",
    "import json\n",
    "\n",
    "import dataclasses\n",
    "from pydantic import BaseModel\n",
    "from pydantic import dataclasses as pddataclasses"
   ]
  },
  {
   "cell_type": "code",
   "execution_count": 93,
   "id": "37789e91-a2bf-4a53-a55d-e98601a5a0bc",
   "metadata": {},
   "outputs": [],
   "source": [
    "class PydanticSphere(BaseModel):\n",
    "    center: Tuple[float, float, float]\n",
    "    radius: float\n",
    "\n",
    "@pddataclasses.dataclass\n",
    "class PydanticDCSphere:\n",
    "    center: Tuple[float, float, float]\n",
    "    radius: float\n",
    "\n",
    "@dataclasses.dataclass\n",
    "class DataclassSphere:\n",
    "    center: Tuple[float, float, float]\n",
    "    radius: float\n",
    "\n",
    "models = (PydanticSphere, DataclassSphere, PydanticDCSphere)"
   ]
  },
  {
   "cell_type": "code",
   "execution_count": 94,
   "id": "5a9924ce-9814-49dc-8185-4c87f0c1059c",
   "metadata": {},
   "outputs": [
    {
     "name": "stdout",
     "output_type": "stream",
     "text": [
      "positional arguments\n",
      "---\n",
      "\terrored for PydanticSphere\n",
      "\terror = __init__() takes exactly 1 positional argument (3 given)\n",
      "---\n",
      "DataclassSphere(center=(1, 1, 1), radius=1.0)\n",
      "\tworked for DataclassSphere\n",
      "---\n",
      "PydanticDCSphere(center=(1.0, 1.0, 1.0), radius=1.0)\n",
      "\tworked for PydanticDCSphere\n"
     ]
    }
   ],
   "source": [
    "# winner: dataclasses, pydantic.dataclasses\n",
    "print('positional arguments')\n",
    "for m in models:\n",
    "    print('---')\n",
    "    try:\n",
    "        sphere = m((1,1,1), 1.0)\n",
    "        print(sphere)\n",
    "        print(f'\\tworked for {m.__name__}')\n",
    "    except Exception as e:\n",
    "        print(f'\\terrored for {m.__name__}')\n",
    "        print(f'\\terror = {e}')"
   ]
  },
  {
   "cell_type": "code",
   "execution_count": 95,
   "id": "504148d8-acb7-4a57-87c3-6eda9ff95e48",
   "metadata": {},
   "outputs": [
    {
     "name": "stdout",
     "output_type": "stream",
     "text": [
      "type conversion\n",
      "---\n",
      "center=(1.0, 1.0, 1.0) radius=1.0\n",
      "\tworked for PydanticSphere\n",
      "---\n",
      "DataclassSphere(center=(1, 1, 1), radius=1)\n",
      "\terrored for DataclassSphere\n",
      "\terror = radius not converted to float\n",
      "---\n",
      "PydanticDCSphere(center=(1.0, 1.0, 1.0), radius=1.0)\n",
      "\tworked for PydanticDCSphere\n"
     ]
    }
   ],
   "source": [
    "# winner: pydantic, pydantic.dataclasses\n",
    "print('type conversion')\n",
    "for m in models:\n",
    "    print('---')\n",
    "    try:\n",
    "        sphere = m(center=(1,1,1), radius=1)\n",
    "        print(sphere)\n",
    "        assert isinstance(sphere.radius, float),  \"radius not converted to float\"\n",
    "        print(f'\\tworked for {m.__name__}')\n",
    "    except Exception as e:\n",
    "        print(f'\\terrored for {m.__name__}')\n",
    "        print(f'\\terror = {e}')"
   ]
  },
  {
   "cell_type": "code",
   "execution_count": 96,
   "id": "2e7bce6b-2917-4055-8f7f-1e53dbb2fd0e",
   "metadata": {},
   "outputs": [
    {
     "name": "stdout",
     "output_type": "stream",
     "text": [
      "catches wrong types conversion\n",
      "---\n",
      "\terrored for PydanticSphere\n",
      "\terror = 1 validation error for PydanticSphere\n",
      "center -> 0\n",
      "  value is not a valid float (type=type_error.float)\n",
      "---\n",
      "DataclassSphere(center=('s', 1, 1), radius=1.0)\n",
      "\tworked for DataclassSphere\n",
      "---\n",
      "\terrored for PydanticDCSphere\n",
      "\terror = 1 validation error for PydanticDCSphere\n",
      "center -> 0\n",
      "  value is not a valid float (type=type_error.float)\n"
     ]
    }
   ],
   "source": [
    "# winner: pydantic, pydantic.dataclasses\n",
    "print('catches wrong types conversion')\n",
    "for m in models:\n",
    "    print('---')\n",
    "    try:\n",
    "        sphere = m(center=('s',1,1), radius=1.0)\n",
    "        print(sphere)\n",
    "        print(f'\\tworked for {m.__name__}')\n",
    "    except Exception as e:\n",
    "        print(f'\\terrored for {m.__name__}')\n",
    "        print(f'\\terror = {e}')"
   ]
  },
  {
   "cell_type": "code",
   "execution_count": null,
   "id": "19bf7f9c-f3da-4728-9c3e-af2016ecc06f",
   "metadata": {},
   "outputs": [],
   "source": []
  }
 ],
 "metadata": {
  "kernelspec": {
   "display_name": "env",
   "language": "python",
   "name": "env"
  },
  "language_info": {
   "codemirror_mode": {
    "name": "ipython",
    "version": 3
   },
   "file_extension": ".py",
   "mimetype": "text/x-python",
   "name": "python",
   "nbconvert_exporter": "python",
   "pygments_lexer": "ipython3",
   "version": "3.9.7"
  }
 },
 "nbformat": 4,
 "nbformat_minor": 5
}
