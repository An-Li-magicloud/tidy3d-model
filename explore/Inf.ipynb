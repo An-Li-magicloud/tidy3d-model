{
 "cells": [
  {
   "cell_type": "code",
   "execution_count": 6,
   "id": "b5b474ee-7312-46a7-ad1d-fb7e43c0ec2c",
   "metadata": {},
   "outputs": [],
   "source": [
    "import sys\n",
    "sys.path.append('../tidy3d/components')\n",
    "\n",
    "from base import Tidy3dBaseModel\n",
    "from typing import Literal"
   ]
  },
  {
   "cell_type": "code",
   "execution_count": 7,
   "id": "ec27769e-03ee-40b2-b0b9-078243b5e8d3",
   "metadata": {},
   "outputs": [],
   "source": [
    "class Inf(Tidy3dBaseModel):\n",
    "    type: Literal['Inf'] = 'Inf'\n",
    "    center: float = 0.0\n",
    "    scale: float = 1.0\n",
    "    \n",
    "    def get_value(self, bmin, bmax):\n",
    "        bcenter = (bmin + bmax) / 2.0\n",
    "        bsize = abs(bmax - bmin)\n",
    "        return # something\n",
    "\n",
    "    def __neg__(self):\n",
    "        return Inf(center=self.center, scale=-1*self.scale)\n",
    "    \n",
    "    def __add__(self, other):\n",
    "        other = float(other)\n",
    "        new_center = other + self.center\n",
    "        return Inf(center=new_center, scale=self.scale)\n",
    "\n",
    "    def __sub__(self, other):\n",
    "        return self.__add__(-1*other)\n",
    "\n",
    "    def __mul__(self, other):\n",
    "        other = float(other)\n",
    "        new_scale = self.scale * other\n",
    "        return Inf(center=self.center, scale=new_scale)\n",
    "\n",
    "    def __div__(self, other):\n",
    "        return self.__mul__(1/other)  "
   ]
  },
  {
   "cell_type": "code",
   "execution_count": 10,
   "id": "91058320-429c-49b2-9908-bce983a113a7",
   "metadata": {},
   "outputs": [
    {
     "name": "stdout",
     "output_type": "stream",
     "text": [
      "{\"type\": \"Inf\", \"center\": 0.0, \"scale\": 1.0}\n"
     ]
    }
   ],
   "source": [
    "inf = Inf()\n",
    "print(inf.json())"
   ]
  },
  {
   "cell_type": "code",
   "execution_count": 12,
   "id": "6957c5d9-617f-462f-a7f7-6eb43d01547c",
   "metadata": {},
   "outputs": [
    {
     "data": {
      "text/plain": [
       "'{\"type\": \"Inf\", \"center\": 0.0, \"scale\": -1.0}'"
      ]
     },
     "execution_count": 12,
     "metadata": {},
     "output_type": "execute_result"
    }
   ],
   "source": [
    "(-inf).json()"
   ]
  },
  {
   "cell_type": "code",
   "execution_count": 13,
   "id": "4c249540-60be-448d-a66f-82a192e7f523",
   "metadata": {},
   "outputs": [
    {
     "data": {
      "text/plain": [
       "'{\"type\": \"Inf\", \"center\": 1.0, \"scale\": -1.0}'"
      ]
     },
     "execution_count": 13,
     "metadata": {},
     "output_type": "execute_result"
    }
   ],
   "source": [
    "(-inf+1.0).json()"
   ]
  },
  {
   "cell_type": "code",
   "execution_count": null,
   "id": "791d3495-04b2-467a-9a15-26d98a378cca",
   "metadata": {},
   "outputs": [],
   "source": []
  }
 ],
 "metadata": {
  "kernelspec": {
   "display_name": "Python 3 (ipykernel)",
   "language": "python",
   "name": "python3"
  },
  "language_info": {
   "codemirror_mode": {
    "name": "ipython",
    "version": 3
   },
   "file_extension": ".py",
   "mimetype": "text/x-python",
   "name": "python",
   "nbconvert_exporter": "python",
   "pygments_lexer": "ipython3",
   "version": "3.9.7"
  }
 },
 "nbformat": 4,
 "nbformat_minor": 5
}
