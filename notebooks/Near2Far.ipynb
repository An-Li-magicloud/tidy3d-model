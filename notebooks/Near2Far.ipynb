{
 "cells": [
  {
   "cell_type": "code",
   "execution_count": 1,
   "id": "83c65e21-c65b-48c1-934a-eecf7c12d4c7",
   "metadata": {
    "execution": {
     "iopub.execute_input": "2021-10-02T00:25:01.737093Z",
     "iopub.status.busy": "2021-10-02T00:25:01.736539Z",
     "iopub.status.idle": "2021-10-02T00:25:04.017418Z",
     "shell.execute_reply": "2021-10-02T00:25:04.017970Z"
    }
   },
   "outputs": [],
   "source": [
    "# make sure notebook plots inline\n",
    "%matplotlib inline\n",
    "\n",
    "# first import packages\n",
    "import matplotlib.pylab as plt\n",
    "import matplotlib as mpl\n",
    "mpl.rcParams['figure.dpi']= 150\n",
    "import numpy as np\n",
    "\n",
    "import sys\n",
    "sys.path.append('..')\n",
    "import tidy3d as td"
   ]
  },
  {
   "cell_type": "code",
   "execution_count": null,
   "id": "39f2c360-e049-45eb-9793-7f9560e1f9c3",
   "metadata": {},
   "outputs": [],
   "source": []
  }
 ],
 "metadata": {
  "kernelspec": {
   "display_name": "Python 3 (ipykernel)",
   "language": "python",
   "name": "python3"
  },
  "language_info": {
   "codemirror_mode": {
    "name": "ipython",
    "version": 3
   },
   "file_extension": ".py",
   "mimetype": "text/x-python",
   "name": "python",
   "nbconvert_exporter": "python",
   "pygments_lexer": "ipython3",
   "version": "3.9.7"
  }
 },
 "nbformat": 4,
 "nbformat_minor": 5
}
